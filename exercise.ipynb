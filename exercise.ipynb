{
 "cells": [
  {
   "cell_type": "markdown",
   "metadata": {},
   "source": [
    "# play game (سنگ , کاغذ, قیچی)\n"
   ]
  },
  {
   "cell_type": "code",
   "execution_count": 2,
   "metadata": {},
   "outputs": [
    {
     "name": "stdout",
     "output_type": "stream",
     "text": [
      "[sang-->s | kagaz--->k | ghiche-->g ]\n",
      "please just choice [s,k,g]\n",
      "[sang-->s | kagaz--->k | ghiche-->g ]\n",
      "choice_User : k\n",
      "choice_Pc : k\n",
      "----------so---------->:\n",
      "mosavi shodid\n",
      "pc--->0,you--->0\n",
      "[sang-->s | kagaz--->k | ghiche-->g ]\n",
      "choice_User : k\n",
      "choice_Pc : s\n",
      "----------so---------->:\n",
      "User Win\n",
      "pc--->0,you--->1\n",
      "[sang-->s | kagaz--->k | ghiche-->g ]\n",
      "choice_User : s\n",
      "choice_Pc : g\n",
      "----------so---------->:\n",
      "User Win\n",
      "pc--->0,you--->2\n",
      "[sang-->s | kagaz--->k | ghiche-->g ]\n",
      "choice_User : s\n",
      "choice_Pc : g\n",
      "----------so---------->:\n",
      "User Win\n",
      "pc--->0,you--->3\n",
      "tamam user Win\n"
     ]
    }
   ],
   "source": [
    "c=p=0\n",
    "# making a list for data\n",
    "data_list=[\"s\",\"k\",\"g\"]\n",
    "#input pc\n",
    "import random \n",
    "while True:\n",
    "    choice_pc=random.choice(data_list)\n",
    "    #input User\n",
    "    choice_User=input(\"pleas chose your in list:\")\n",
    "    print(\"[sang-->s | kagaz--->k | ghiche-->g ]\")\n",
    "    choice_User=choice_User.lower()\n",
    "    # show the choices\n",
    "    if choice_User==\"s\" or choice_User==\"k\" or choice_User==\"g\":\n",
    "        print(f\"choice_User : {choice_User}\")\n",
    "        print(f\"choice_Pc : {choice_pc}\")\n",
    "        print(\"-\"*10,\"so\",\"-\"*10,\">:\",sep=\"\")\n",
    "        #check your win\n",
    "        if choice_pc == choice_User:\n",
    "            print(\"mosavi shodid\")\n",
    "        elif choice_User==\"s\" and choice_pc==\"k\" :\n",
    "            print(\"Pc Win\")\n",
    "            p+=1\n",
    "        elif choice_User==\"s\" and choice_pc==\"g\" :\n",
    "            print(\"User Win\")\n",
    "            c+=1\n",
    "        elif choice_User==\"k\" and choice_pc==\"s\" :\n",
    "            print(\"User Win\")\n",
    "            c+=1\n",
    "        elif choice_User==\"k\" and choice_pc==\"g\" :\n",
    "            print(\"Pc Win\")\n",
    "            p+=1\n",
    "        elif choice_User==\"g\" and choice_pc==\"k\" :\n",
    "            print(\"User Win\")\n",
    "            c+=1\n",
    "        elif choice_User==\"g\" and choice_pc==\"s\" :\n",
    "            print(\"Pc Win\")\n",
    "            p+=1\n",
    "        print(f\"pc--->{p},you--->{c}\")\n",
    "    else:\n",
    "        print(\"please just choice [s,k,g]\")\n",
    "    if c==3 or p==3:\n",
    "        break\n",
    "if p==3:\n",
    "    print(\"tamam pc Win\")\n",
    "else:\n",
    "    print(\"tamam user Win\")\n"
   ]
  }
 ],
 "metadata": {
  "kernelspec": {
   "display_name": "Python 3",
   "language": "python",
   "name": "python3"
  },
  "language_info": {
   "codemirror_mode": {
    "name": "ipython",
    "version": 3
   },
   "file_extension": ".py",
   "mimetype": "text/x-python",
   "name": "python",
   "nbconvert_exporter": "python",
   "pygments_lexer": "ipython3",
   "version": "3.12.8"
  }
 },
 "nbformat": 4,
 "nbformat_minor": 2
}
