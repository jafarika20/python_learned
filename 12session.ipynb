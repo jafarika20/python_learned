{
 "cells": [
  {
   "cell_type": "code",
   "execution_count": null,
   "metadata": {},
   "outputs": [],
   "source": [
    "import numpy as np\n",
    "#create array\n",
    "data=np.array([[0,1,2,3,4,5],\n",
    "[5,4,8,0,4,9],\n",
    "[45,78,95,45,87,12]])\n",
    "data"
   ]
  },
  {
   "cell_type": "code",
   "execution_count": null,
   "metadata": {},
   "outputs": [],
   "source": [
    "#shape----------->ابعاد\n",
    "print(data.shape)"
   ]
  },
  {
   "cell_type": "code",
   "execution_count": null,
   "metadata": {},
   "outputs": [],
   "source": [
    "#reshape---------->تغیر ابعاد\n",
    "new_data=data.reshape((1,18))\n",
    "print(new_data)"
   ]
  },
  {
   "cell_type": "code",
   "execution_count": null,
   "metadata": {},
   "outputs": [],
   "source": [
    "#وقتی یکی از ابعاد را نمیدانید\n",
    "new_data=data.reshape((3,-1))#use neggtive 1 for not  anderastand size\n",
    "print(new_data)"
   ]
  },
  {
   "cell_type": "code",
   "execution_count": null,
   "metadata": {},
   "outputs": [],
   "source": [
    "#concatenate------->ادغام دو لیست با استفاده از نامپای\n",
    "a=np.array([1,2,3])\n",
    "b=np.array([1 ,2 ])\n",
    "c=np.concatenate((a,b))\n",
    "print(c)\n",
    "#or\n",
    "list1=[1,2,3]\n",
    "list2=[1,2]\n",
    "list1.extend(list2)\n",
    "print(list1)"
   ]
  },
  {
   "cell_type": "markdown",
   "metadata": {},
   "source": [
    "#جمع و ضرب و تفریق و تقسیم المان های دو ارایه در یکدیگر\n"
   ]
  },
  {
   "cell_type": "markdown",
   "metadata": {},
   "source": [
    "#data bradcast "
   ]
  },
  {
   "cell_type": "code",
   "execution_count": null,
   "metadata": {},
   "outputs": [],
   "source": [
    "a=np.array([1,2,3])\n",
    "c=a+10\n",
    "print(c)"
   ]
  },
  {
   "cell_type": "markdown",
   "metadata": {},
   "source": [
    "# slicing -------->برش دادن\n",
    "## Data[start :end+1 :step]\n"
   ]
  },
  {
   "cell_type": "code",
   "execution_count": 31,
   "metadata": {},
   "outputs": [],
   "source": [
    "a=np.array([1,2,3,4,5,6,7,8,9])\n",
    "b=a[0:7]"
   ]
  },
  {
   "cell_type": "markdown",
   "metadata": {},
   "source": [
    "** ابتدا تکلیف سطر و یک ویرگول میگزاریم و تکلیف ستون را مشخص میکنیم **"
   ]
  },
  {
   "cell_type": "code",
   "execution_count": null,
   "metadata": {},
   "outputs": [],
   "source": [
    "data=np.array([[0,1,2,3,4,5],\n",
    "[5,4,8,0,4,9],\n",
    "[45,78,95,45,87,12]])\n",
    "#or\n",
    "print(data[:3:,:3])"
   ]
  },
  {
   "cell_type": "markdown",
   "metadata": {},
   "source": [
    "## use fanctiion in numpy\n",
    "### for example:\n",
    "#### sum ,min ,max ,..."
   ]
  },
  {
   "cell_type": "code",
   "execution_count": null,
   "metadata": {},
   "outputs": [],
   "source": [
    "data=np.array([[0,1,2,3,4,5],\n",
    "[5,4,8,0,4,9],\n",
    "[45,78,95,45,87,12]])\n",
    "#مجموع تمام مقادیر\n",
    "sum_data=np.sum(data)\n",
    "#or\n",
    "sume=data.sum()\n",
    "#-----------در نتیجه\n",
    "print(sume)\n",
    "print(sum_data)"
   ]
  },
  {
   "cell_type": "code",
   "execution_count": null,
   "metadata": {},
   "outputs": [],
   "source": [
    "\"\"\"for maximom\"\"\"\n",
    "data=np.array([[0,1,2,3,4,5],\n",
    "[5,4,8,0,4,9],\n",
    "[45,78,95,45,87,12]])\n",
    "max_data=np.max(data)\n",
    "#or\n",
    "Max=data.max()\n",
    "print(f'max_data  {max_data} or Max  {Max}')"
   ]
  },
  {
   "cell_type": "code",
   "execution_count": null,
   "metadata": {},
   "outputs": [],
   "source": [
    "\"\"\"for minimom\"\"\"\n",
    "data=np.array([[0,1,2,3,4,5],\n",
    "[5,4,8,0,4,9],\n",
    "[45,78,95,45,87,12]])\n",
    "min_data=np.min(data)\n",
    "#or\n",
    "Min=data.min()\n",
    "print(f'min_data  {min_data} or Min  {Min}')"
   ]
  },
  {
   "cell_type": "code",
   "execution_count": null,
   "metadata": {},
   "outputs": [],
   "source": [
    "data=np.array([[0,1,2,3,4,5],\n",
    "[5,4,8,0,4,9],\n",
    "[45,78,95,45,87,12]])\n",
    "data_sort=np.sort(data)\n",
    "data_sort"
   ]
  },
  {
   "cell_type": "markdown",
   "metadata": {},
   "source": [
    "### ساخت ماتریس های تصادفی به \n",
    "#### np.random\n"
   ]
  },
  {
   "cell_type": "code",
   "execution_count": null,
   "metadata": {},
   "outputs": [],
   "source": [
    "data_new=np.random.randint(50,100,(3,4))\n",
    "print(data_new)"
   ]
  },
  {
   "cell_type": "markdown",
   "metadata": {},
   "source": [
    "|### کنار هم گذاشتن به عنوان اضافه کردن در ارایه\n"
   ]
  },
  {
   "cell_type": "code",
   "execution_count": null,
   "metadata": {},
   "outputs": [],
   "source": [
    "# اضافه کردن به صورت سطری\n",
    "a=np.array([1,2,3])\n",
    "b=np.array([10,10,10])\n",
    "c=np.vstack((a,b))\n",
    "c"
   ]
  },
  {
   "cell_type": "code",
   "execution_count": null,
   "metadata": {},
   "outputs": [],
   "source": [
    "# اضافه کردن به صورت ستونی\n",
    "a=np.array([1,2,3])\n",
    "b=np.array([10,10])\n",
    "c=np.hstack((a,b))#توجه همیشه در شیپ ها و وصل کردن ها به هم از یک پرانتز بیشتر استفاده کنید\n",
    "c"
   ]
  },
  {
   "cell_type": "markdown",
   "metadata": {},
   "source": [
    "normalize"
   ]
  },
  {
   "cell_type": "code",
   "execution_count": null,
   "metadata": {},
   "outputs": [],
   "source": [
    "#mean\n",
    "data=np.array([[0,1,2,3,4,5],\n",
    "[5,4,8,0,4,9],\n",
    "[45,78,95,45,87,12]]\n",
    ")\n",
    "mean_data=np.mean(data)\n",
    "mean_data"
   ]
  },
  {
   "cell_type": "code",
   "execution_count": null,
   "metadata": {},
   "outputs": [],
   "source": [
    "std_a=np.std(a)\n",
    "std_a"
   ]
  },
  {
   "cell_type": "code",
   "execution_count": null,
   "metadata": {},
   "outputs": [],
   "source": [
    "### فرمول مهم که نیاز به دو قطعه کد بالا داشت\n",
    "normalize=(a-mean_data)/std_a\n",
    "normalize"
   ]
  }
 ],
 "metadata": {
  "kernelspec": {
   "display_name": "Python 3",
   "language": "python",
   "name": "python3"
  },
  "language_info": {
   "codemirror_mode": {
    "name": "ipython",
    "version": 3
   },
   "file_extension": ".py",
   "mimetype": "text/x-python",
   "name": "python",
   "nbconvert_exporter": "python",
   "pygments_lexer": "ipython3",
   "version": "3.12.8"
  }
 },
 "nbformat": 4,
 "nbformat_minor": 2
}
