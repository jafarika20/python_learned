{
 "cells": [
  {
   "cell_type": "markdown",
   "metadata": {},
   "source": [
    "# class : \n",
    "## 1.Attribute2.behavior/action\n",
    "    \n",
    "# class Class_name:\n",
    "## code"
   ]
  },
  {
   "cell_type": "code",
   "execution_count": 22,
   "metadata": {},
   "outputs": [],
   "source": [
    "class Ensan:\n",
    "    name= \"name\"\n",
    "    age=0\n",
    "\n",
    "    def morefi(self):\n",
    "        print(f\"salam ,man :{self.name} hastam\")"
   ]
  },
  {
   "cell_type": "code",
   "execution_count": 23,
   "metadata": {},
   "outputs": [],
   "source": [
    "Ali=Ensan() #object"
   ]
  },
  {
   "cell_type": "code",
   "execution_count": 24,
   "metadata": {},
   "outputs": [
    {
     "name": "stdout",
     "output_type": "stream",
     "text": [
      "Ali\n",
      "25\n"
     ]
    }
   ],
   "source": [
    "Ali.name=\"Ali\"\n",
    "Ali.age=25\n",
    "print(Ali.name)\n",
    "print(Ali.age)"
   ]
  },
  {
   "cell_type": "code",
   "execution_count": 25,
   "metadata": {},
   "outputs": [
    {
     "name": "stdout",
     "output_type": "stream",
     "text": [
      "salam ,man :Ali hastam\n"
     ]
    }
   ],
   "source": [
    "Ali.morefi()"
   ]
  },
  {
   "cell_type": "markdown",
   "metadata": {},
   "source": [
    "for megdar dehi avalea ek kar behtar ast :"
   ]
  },
  {
   "cell_type": "code",
   "execution_count": 27,
   "metadata": {},
   "outputs": [],
   "source": [
    "class pet():\n",
    "    def __init__(self,name,age,type):\n",
    "        self.name=name\n",
    "        self.age=age\n",
    "        self.type=type  \n",
    "    def eat(self,food):\n",
    "        print(f\"{self.name} is eating {food}\")\n"
   ]
  },
  {
   "cell_type": "code",
   "execution_count": 29,
   "metadata": {},
   "outputs": [
    {
     "name": "stdout",
     "output_type": "stream",
     "text": [
      "alix\n",
      "2\n",
      "dog\n"
     ]
    }
   ],
   "source": [
    "p1=pet(\"alix\",2,\"dog\")\n",
    "print(p1.name)\n",
    "print(p1.age)\n",
    "print(p1.type)"
   ]
  },
  {
   "cell_type": "code",
   "execution_count": 30,
   "metadata": {},
   "outputs": [
    {
     "name": "stdout",
     "output_type": "stream",
     "text": [
      "alix is eating meat\n"
     ]
    }
   ],
   "source": [
    "p1.eat(\"meat\")"
   ]
  },
  {
   "cell_type": "markdown",
   "metadata": {},
   "source": [
    "# اموزش ارث بری در پایتون"
   ]
  },
  {
   "cell_type": "code",
   "execution_count": 31,
   "metadata": {},
   "outputs": [],
   "source": [
    "class Hevan(pet):\n",
    "    pass"
   ]
  },
  {
   "cell_type": "code",
   "execution_count": 32,
   "metadata": {},
   "outputs": [
    {
     "name": "stdout",
     "output_type": "stream",
     "text": [
      "persios\n",
      "16\n",
      "dog\n",
      "persios is eating chickin and meat\n"
     ]
    }
   ],
   "source": [
    "p3=Hevan(\"persios\",16,\"dog\")\n",
    "print(p3.name)\n",
    "print(p3.age)\n",
    "print(p3.type)\n",
    "p3.eat(\"chickin and meat\")\n",
    "\n"
   ]
  }
 ],
 "metadata": {
  "kernelspec": {
   "display_name": "Python 3",
   "language": "python",
   "name": "python3"
  },
  "language_info": {
   "codemirror_mode": {
    "name": "ipython",
    "version": 3
   },
   "file_extension": ".py",
   "mimetype": "text/x-python",
   "name": "python",
   "nbconvert_exporter": "python",
   "pygments_lexer": "ipython3",
   "version": "3.12.8"
  }
 },
 "nbformat": 4,
 "nbformat_minor": 2
}
