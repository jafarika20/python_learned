{
 "cells": [
  {
   "cell_type": "markdown",
   "metadata": {},
   "source": [
    "# lern a bout mysql\n",
    "## for add fild for database\n",
    "**import mysql**"
   ]
  },
  {
   "cell_type": "code",
   "execution_count": 47,
   "metadata": {},
   "outputs": [
    {
     "name": "stdout",
     "output_type": "stream",
     "text": [
      "\n",
      "oil\t444\t200000\t2025-08-30\t\n",
      "choclate\t5555\t50000\t2025-08-04\t\n",
      "chips\t9999\t30000\t0000-00-00\t"
     ]
    }
   ],
   "source": [
    "import pymysql \n",
    "db=pymysql.connect(host=\"localhost\",user=\"root\",passwd=\"\",database=\"shoping\")\n",
    "cursor=db.cursor()\n",
    "s=\"SELECT * from kala\"\n",
    "cursor.execute(s)#برای اجرا کردن دستور\n",
    "data=cursor.fetchall()#دسترسی به داده های جدول\n",
    "for j in data:\n",
    "    print()\n",
    "    for i in j:\n",
    "        if i!='(' and i!=')' and i !=',':\n",
    "            print(i,end=\"\\t\")\n"
   ]
  }
 ],
 "metadata": {
  "kernelspec": {
   "display_name": "Python 3",
   "language": "python",
   "name": "python3"
  },
  "language_info": {
   "codemirror_mode": {
    "name": "ipython",
    "version": 3
   },
   "file_extension": ".py",
   "mimetype": "text/x-python",
   "name": "python",
   "nbconvert_exporter": "python",
   "pygments_lexer": "ipython3",
   "version": "3.12.8"
  }
 },
 "nbformat": 4,
 "nbformat_minor": 2
}
