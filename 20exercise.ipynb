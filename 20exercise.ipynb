{
 "cells": [
  {
   "cell_type": "markdown",
   "metadata": {
    "vscode": {
     "languageId": "plaintext"
    }
   },
   "source": [
    "# پروژه اول :حدس عدد"
   ]
  },
  {
   "cell_type": "code",
   "execution_count": 1,
   "metadata": {},
   "outputs": [
    {
     "name": "stdout",
     "output_type": "stream",
     "text": [
      "you chose number not string .\n",
      "you chose number not string .\n",
      "you chose number not string .\n",
      "game over because 3 try chose string you not good boy\n"
     ]
    }
   ],
   "source": [
    "import random\n",
    "\n",
    "def gues_nmber():\n",
    "    count=0\n",
    "    error=0\n",
    "    a=random.randint(0,100)\n",
    "    for i in range(13):\n",
    "        try :\n",
    "            data_user=int(input(\"Enter the gues number :\"))\n",
    "            print(f\"you gues : {data_user}----->\",end=\" \")\n",
    "        except ValueError:\n",
    "            error+=1\n",
    "            print(\"you chose number not string .\")\n",
    "            if error==3:\n",
    "                print(\"game over because 3 try chose string you not good boy\")\n",
    "                break            \n",
    "            continue\n",
    "        count+=1\n",
    "        if data_user==a :\n",
    "            print(f\"you win after {count}\",end=\"\\n\\n\\n\")\n",
    "            try_again = input(\"Enter The yes for try again or No to end .(y,n) ?\\t\")\n",
    "            if try_again==\"y\" or try_again==\"Y\":\n",
    "                gues_nmber()\n",
    "            else:\n",
    "                break\n",
    "        elif data_user>a:\n",
    "            print(\"your geues number is more tha number .\")\n",
    "        else:\n",
    "            print(\"your geues number is some the number .\")\n",
    "        if count==10:\n",
    "            print(\"Game over after 10 try not win .\",end=\"\\n\\n\\n\")\n",
    "            try_again = input(\"Enter The yes for try again or No to end .(y,n) ?\\t\")\n",
    "            if try_again==\"y\" or try_again==\"Y\":\n",
    "                gues_nmber()\n",
    "            else:\n",
    "                break\n",
    "gues_nmber() "
   ]
  },
  {
   "cell_type": "markdown",
   "metadata": {},
   "source": [
    "# random password"
   ]
  },
  {
   "cell_type": "code",
   "execution_count": 2,
   "metadata": {},
   "outputs": [
    {
     "name": "stdout",
     "output_type": "stream",
     "text": [
      "66z&IYm1\n",
      "vu*5OGt2\n",
      "gM3zI#o6\n",
      "iE2wMz*8\n",
      "&#FdB1hd\n",
      "tNG62sI#\n",
      "st9n%Fi7\n",
      "*eD#S08h\n",
      "8d4O*VPf\n",
      "b4MSu4&#\n",
      "******************************\n",
      "zj4hNsxI\n",
      "9d7XDZzS\n",
      "9pnL1DTo\n",
      "qdR8r9sz\n",
      "cL3TiaYh\n",
      "LVluH9qb\n",
      "fChxV2Xe\n",
      "RPN0veB#\n",
      "%F4awNyJ\n",
      "QyMPZpq2\n"
     ]
    }
   ],
   "source": [
    "import string \n",
    "import random\n",
    "numbers=string.digits\n",
    "string_char=string.ascii_letters\n",
    "symple=\"&%#*\"\n",
    "for i in range(10):\n",
    "    password=random.choice(numbers)+random.choice(string_char)+random.choice(symple)\n",
    "    password += ''.join(random.choices(numbers+string_char+symple,k=5))\n",
    "    pwd=list(list(password))\n",
    "    random.shuffle(pwd)\n",
    "    pd=''.join(pwd)\n",
    "    print(pd)\n",
    "print(\"*\"*30)\n",
    "# or\n",
    "#best code \n",
    "# or\n",
    "import string \n",
    "import random\n",
    "numbers=string.digits\n",
    "string_char=string.ascii_letters\n",
    "symple=\"&%#*\"\n",
    "for i in range(10):\n",
    "    password=random.sample(numbers+string_char+symple,k=8)\n",
    "    random.shuffle(password)\n",
    "    print(''.join(password))\n"
   ]
  },
  {
   "cell_type": "markdown",
   "metadata": {},
   "source": [
    "# animal guess"
   ]
  },
  {
   "cell_type": "code",
   "execution_count": 3,
   "metadata": {},
   "outputs": [
    {
     "name": "stdout",
     "output_type": "stream",
     "text": [
      "-----\n",
      "pleas enter only one letter !\n",
      "-----\n",
      "pleas enter only one letter !\n",
      "-----\n",
      "pleas enter only one letter !\n",
      "-----\n",
      "pleas enter only one letter !\n",
      "-----\n",
      "pleas enter only one letter !\n",
      "-----\n",
      "try again\n",
      "-----\n",
      "pleas enter only one letter !\n",
      "-----\n",
      "pleas enter only one letter !\n",
      "-----\n",
      "pleas enter only one letter !\n",
      "-----\n",
      "pleas enter only one letter !\n",
      "game over\n"
     ]
    }
   ],
   "source": [
    "import random\n",
    "#get data\n",
    "animal_data=['dog','tiger','panda','monkey','zebra','cow','beard']\n",
    "pc_choice=random.choice(animal_data)\n",
    "lengh=[\"-\"]*len(pc_choice)\n",
    "error=0\n",
    "for i in range(10):\n",
    "    print(''.join(lengh))\n",
    "    user_input=input(\"Enter your guess :\\t\")\n",
    "    if len(user_input) !=1:\n",
    "        print(\"pleas enter only one letter !\")\n",
    "        if error==3:\n",
    "            print(\"game over because 3 try chose string you not good boy\")\n",
    "        continue\n",
    "    if user_input in pc_choice:\n",
    "        for index,char in enumerate(pc_choice):\n",
    "            if char ==user_input:\n",
    "                lengh[index]=user_input\n",
    "                print(''.join(lengh))\n",
    "        if '-' not in lengh:\n",
    "            print(\"You win\")\n",
    "            break\n",
    "    else:\n",
    "        print(\"try again\")\n",
    "else:\n",
    "    print('game over')                "
   ]
  },
  {
   "cell_type": "code",
   "execution_count": 5,
   "metadata": {},
   "outputs": [],
   "source": [
    "import json\n",
    "class numbers:\n",
    "    def __init__(self,path =\"-\"):\n",
    "        self.list_data=[]\n",
    "        if path!=\"-\":\n",
    "            print(\"LOADING...\")\n",
    "            with open(\"./list_data.json\",\"r\") as f:\n",
    "                data=f.read()\n",
    "                self.list_data=json.loads(data)\n",
    "            print(\"LOADED .\")\n",
    "    def add(self,name,number):\n",
    "        self.list_data.append({\n",
    "            \"name\" : name ,\n",
    "            \"number\" :number\n",
    "        })\n",
    "\n",
    "    def search (self,name):\n",
    "        result=[]\n",
    "        for item in self.list_data:\n",
    "\n",
    "            print(item)\n",
    "            if name.lower() in item[\"name\"].lower():\n",
    "                result.append(item)\n",
    "        print(result)\n",
    "    def backup(self):\n",
    "        with open(\"./list_data.json\",\"+tw\") as f:\n",
    "            f.write(json.dumps(self.list_data))\n",
    "\n",
    "    def print(self):\n",
    "        print(self.list_data)\n"
   ]
  }
 ],
 "metadata": {
  "kernelspec": {
   "display_name": "Python 3",
   "language": "python",
   "name": "python3"
  },
  "language_info": {
   "codemirror_mode": {
    "name": "ipython",
    "version": 3
   },
   "file_extension": ".py",
   "mimetype": "text/x-python",
   "name": "python",
   "nbconvert_exporter": "python",
   "pygments_lexer": "ipython3",
   "version": "3.12.8"
  }
 },
 "nbformat": 4,
 "nbformat_minor": 2
}
