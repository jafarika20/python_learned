{
 "cells": [
  {
   "cell_type": "markdown",
   "metadata": {},
   "source": [
    "# learn about object orinted programing\n"
   ]
  },
  {
   "cell_type": "markdown",
   "metadata": {},
   "source": []
  },
  {
   "cell_type": "markdown",
   "metadata": {},
   "source": [
    "## object oriented vs procedural(fanctional programing) \n",
    "##### procedural :خطی میباشد  --> مصرف فضای کمتر ,قابلیت محدود کردن استفاده رو ندارد\n",
    "##### object oriented :اجازه دادن به دسترسی داشتن یا نداشتن, مصرف فضای بیشتر ,کار با داده های بزرگ تر را راحت -->"
   ]
  },
  {
   "cell_type": "code",
   "execution_count": null,
   "metadata": {},
   "outputs": [],
   "source": [
    "class Box:#نقشه ما اینجا هستش\n",
    "    def say_hello(self):#تعریف توابع که در کلاس بهش میگیم متد\n",
    "        print(\"Hello\")\n",
    "box_object=Box()\n",
    "print(box_object.say_hello())"
   ]
  },
  {
   "cell_type": "markdown",
   "metadata": {},
   "source": [
    "متد سازنده یا متد اینشیالایز متد"
   ]
  },
  {
   "cell_type": "code",
   "execution_count": null,
   "metadata": {},
   "outputs": [],
   "source": [
    "class Box:\n",
    "    def __init__(self):#متد init\n",
    "        print(\"instance created\")\n",
    "    def say_hello(self):#متد say_hello\n",
    "        print(\"Hello\")\n",
    "box_object=Box()#زمانی که از شی میسازید این خودش فراخوانی میشه\n"
   ]
  },
  {
   "cell_type": "code",
   "execution_count": null,
   "metadata": {},
   "outputs": [],
   "source": [
    "class Box:\n",
    "    def __init__(self,name:str,last_name:str):#این متد ورودی هایش را هنگام تعریف کلاس میگیر\n",
    "        self.name=name\n",
    "        self.last_name=last_name\n",
    "    def say_hello(self):\n",
    "        print(\"Hello\",self.name,\"you are butifull\")\n",
    "box_object=Box(\"karo\",\"jafari\")#زمانی که از شی میسازید این خودش فراخوانی میشه\n",
    "#اگه عبارت بالا پر نشه ارور میده\n",
    "\"\"\"کلمه سیلف به معنی ارجاع دادن به شی هست که به مفاهیم پیشرفته تر نیاز داره\"\"\"\n",
    "box_object.say_hello()\n"
   ]
  },
  {
   "cell_type": "code",
   "execution_count": null,
   "metadata": {},
   "outputs": [],
   "source": [
    "\n",
    "class student:\n",
    "    def __init__(self,name:str,number:str,chandomi,tavalod):\n",
    "        self.name=name\n",
    "        self.number=number\n",
    "        self.chandomi=chandomi\n",
    "        self.tavalod=tavalod\n",
    "        print(f\"welcome to class {name}so also you are student in college\")\n",
    "list_name_data=['aegk', 'qsnc', 'pbta', 'dbsa', 'rpyo', 'tglo', 'bifo', 'mszu',\n",
    "'wnag', 'qirh', 'phif', 'mltb', 'edrp', 'qytg', 'pfoj', 'bomz', 'sgnf', 'jklz',\n",
    "'gjms', 'eadl', 'tbxn', 'bpjg', 'qpfj', 'ezql', 'hjga', 'qagv', 'mhpq', 'uvco',\n",
    "'wqnx', 'mtyc', 'feml']\n",
    "for i in list_name_data:\n",
    "    a=input(\"name :\\t\")\n",
    "    b=input(\"number :\\t\")\n",
    "    c=input(\"claas chandiome\")\n",
    "    d=input(\"sala tavalodet ro benevis\")\n",
    "    i=student(a,b,c,d)\n"
   ]
  }
 ],
 "metadata": {
  "kernelspec": {
   "display_name": "Python 3",
   "language": "python",
   "name": "python3"
  },
  "language_info": {
   "codemirror_mode": {
    "name": "ipython",
    "version": 3
   },
   "file_extension": ".py",
   "mimetype": "text/x-python",
   "name": "python",
   "nbconvert_exporter": "python",
   "pygments_lexer": "ipython3",
   "version": "3.12.8"
  }
 },
 "nbformat": 4,
 "nbformat_minor": 2
}
